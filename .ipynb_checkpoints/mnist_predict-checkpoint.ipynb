{
 "cells": [
  {
   "cell_type": "code",
   "execution_count": 1,
   "metadata": {},
   "outputs": [
    {
     "name": "stderr",
     "output_type": "stream",
     "text": [
      "Using TensorFlow backend.\n"
     ]
    }
   ],
   "source": [
    "from keras.models import model_from_json\n",
    "from pathlib import Path\n",
    "from keras.preprocessing import image\n",
    "import numpy as np\n",
    "import matplotlib.pyplot as plt\n",
    "import cv2\n",
    "import pandas as pd\n",
    "import matplotlib\n",
    "\n",
    "%matplotlib inline\n",
    "matplotlib.rcParams['font.sans-serif'] = ['SimHei']\n",
    "matplotlib.rcParams['axes.unicode_minus'] = False"
   ]
  },
  {
   "cell_type": "code",
   "execution_count": 2,
   "metadata": {},
   "outputs": [
    {
     "name": "stdout",
     "output_type": "stream",
     "text": [
      "WARNING:tensorflow:From C:\\ProgramData\\Anaconda3\\lib\\site-packages\\tensorflow\\python\\framework\\op_def_library.py:263: colocate_with (from tensorflow.python.framework.ops) is deprecated and will be removed in a future version.\n",
      "Instructions for updating:\n",
      "Colocations handled automatically by placer.\n",
      "WARNING:tensorflow:From C:\\ProgramData\\Anaconda3\\lib\\site-packages\\keras\\backend\\tensorflow_backend.py:3445: calling dropout (from tensorflow.python.ops.nn_ops) with keep_prob is deprecated and will be removed in a future version.\n",
      "Instructions for updating:\n",
      "Please use `rate` instead of `keep_prob`. Rate should be set to `rate = 1 - keep_prob`.\n"
     ]
    }
   ],
   "source": [
    "# 将MNIST中的分类标签按照0--9的顺序表示为数组中的名称\n",
    "class_labels = [\"0\",\"1\",\"2\",\"3\",\"4\",\"5\",\"6\",\"7\",\"8\",\"9\"]\n",
    "\n",
    "# 加载包含模型结构信息的json文件\n",
    "# model_save/model_structure_3epochs.json\n",
    "# model_save/model_weights_3epochs.h5\n",
    "f = Path(\"model_save/model_structure_10epochs.json\")\n",
    "model_structure = f.read_text()\n",
    "\n",
    "# 根据json文件信息重构CNN模型\n",
    "model = model_from_json(model_structure)\n",
    "\n",
    "# 加载模型预训练好的权重参数\n",
    "model.load_weights(\"model_save/model_weights_10epochs.h5\")"
   ]
  },
  {
   "cell_type": "code",
   "execution_count": 3,
   "metadata": {},
   "outputs": [
    {
     "name": "stdout",
     "output_type": "stream",
     "text": [
      "(28, 28)\n",
      "二次灰度化图片:\n"
     ]
    },
    {
     "data": {
      "image/png": "[encoded data removed]",
      "text/plain": [
       "<Figure size 168x168 with 1 Axes>"
      ]
     },
     "metadata": {},
     "output_type": "display_data"
    }
   ],
   "source": [
    "# 测试图片准备：\n",
    "# 1、加载彩色图片缩放\n",
    "# 2、灰度化彩色图片并保存为cache.png\n",
    "# 3、灰度化cache.png\n",
    "\n",
    "# 1、加载彩色图片\n",
    "image_path=\"testimg/4_1.png\"\n",
    "\n",
    "ii = cv2.imread(image_path)\n",
    "#缩放为28*28*3\n",
    "ii = cv2.resize(ii, (28, 28), interpolation=cv2.INTER_CUBIC)\n",
    "\n",
    "#2、灰度化彩色图片并保存为cache.png\n",
    "#变为灰度图片\n",
    "gray_image = cv2.cvtColor(ii, cv2.COLOR_BGR2GRAY)\n",
    "print(gray_image.shape)\n",
    "\n",
    "#显示灰度化后图片\n",
    "plt.imshow(gray_image, 'Greys')\n",
    "#去除空白保存灰度后的图片为 testimg/cach.png\n",
    "plt.axis('off')\n",
    "fig = plt.gcf()\n",
    "fig.set_size_inches(7.0/3,7.0/3) #dpi = 300, output = 700*700 pixels\n",
    "plt.gca().xaxis.set_major_locator(plt.NullLocator())\n",
    "plt.gca().yaxis.set_major_locator(plt.NullLocator())\n",
    "plt.subplots_adjust(top = 1, bottom = 0, right = 1, left = 0, hspace = 0, wspace = 0)\n",
    "plt.margins(0,0)\n",
    "fig.savefig('testimg/cach.png', format='png', transparent=True, dpi=300, pad_inches = 0)\n",
    "\n",
    "#加载灰度后图片 testimg/cach.png\n",
    "cach_image_path=\"testimg/cach.png\"\n",
    "cach_img = cv2.imread(cach_image_path)\n",
    "#缩放为28*28*3\n",
    "cach_img = cv2.resize(cach_img, (28, 28), interpolation=cv2.INTER_CUBIC)\n",
    "#变为灰度图片\n",
    "gray_image = cv2.cvtColor(cach_img, cv2.COLOR_BGR2GRAY)\n",
    "print(\"二次灰度化图片:\")\n",
    "#显示\n",
    "plt.imshow(gray_image, 'Greys')\n",
    "plt.show()"
   ]
  },
  {
   "cell_type": "code",
   "execution_count": 4,
   "metadata": {},
   "outputs": [
    {
     "name": "stdout",
     "output_type": "stream",
     "text": [
      "image_to_test.shape: (28, 28, 1)\n",
      "list_of_images.shape: (1, 28, 28, 1)\n"
     ]
    },
    {
     "data": {
      "image/png": "[encoded data removed]",
      "text/plain": [
       "<Figure size 432x288 with 1 Axes>"
      ]
     },
     "metadata": {
      "needs_background": "light"
     },
     "output_type": "display_data"
    },
    {
     "name": "stdout",
     "output_type": "stream",
     "text": [
      "预测结果: 4 ，可能性为: 1.000000\n",
      "原图: \n"
     ]
    },
    {
     "data": {
      "image/png": "[encoded data removed]",
      "text/plain": [
       "<Figure size 432x288 with 1 Axes>"
      ]
     },
     "metadata": {
      "needs_background": "light"
     },
     "output_type": "display_data"
    }
   ],
   "source": [
    "#加载灰度图片\n",
    "image_to_test = image.img_to_array(gray_image)\n",
    "print(\"image_to_test.shape: {0}\".format(image_to_test.shape))\n",
    "\n",
    "# 为图片添加一个维度，变为四维数组 (1,28,28,1) (因为模型被设计为一次读入一个数据集)\n",
    "list_of_images = np.expand_dims(image_to_test, axis=0)\n",
    "print(\"list_of_images.shape: {0}\".format(list_of_images.shape))\n",
    "\n",
    "\n",
    "# 做预测\n",
    "results = model.predict(list_of_images)\n",
    "\n",
    "\n",
    "#绘制可能性柱状图\n",
    "data=results[0]\n",
    "plt.barh(range(10), data, height=0.8, color='steelblue', alpha=1)      # 从下往上画\n",
    "plt.yticks(range(10), ['0', '1', '2', '3', '4', '5', '6', '7', '8', '9'])\n",
    "plt.xlim(0,1)\n",
    "plt.xlabel(\"可能性\")\n",
    "plt.title(\"0-1 可能性\")\n",
    "for x, y in enumerate(data):\n",
    "    plt.text(y + 0.2, x - 0.1, '%s' % y)\n",
    "plt.show()\n",
    "\n",
    "\n",
    "\n",
    "# 返回可能性最大的分类对应的下标索引值\n",
    "single_result=results[0]\n",
    "most_likely_class_index = int(np.argmax(single_result))\n",
    "class_likelihood = single_result[most_likely_class_index]\n",
    "\n",
    "# 返回最有可能的图片类型名称\n",
    "class_label = class_labels[most_likely_class_index]\n",
    "\n",
    "# 打印结果\n",
    "print(\"预测结果: {0} ，可能性为: {1:2f}\".format(class_label, class_likelihood))\n",
    "\n",
    "# 显示原图\n",
    "print(\"原图: \")\n",
    "img2 = image.load_img(image_path)\n",
    "image_to_array = image.img_to_array(img2)\n",
    "image_to_array = image_to_array.astype('int32')\n",
    "plt.imshow(image_to_array);"
   ]
  },
  {
   "cell_type": "code",
   "execution_count": null,
   "metadata": {},
   "outputs": [],
   "source": []
  }
 ],
 "metadata": {
  "kernelspec": {
   "display_name": "Python 3",
   "language": "python",
   "name": "python3"
  },
  "language_info": {
   "codemirror_mode": {
    "name": "ipython",
    "version": 3
   },
   "file_extension": ".py",
   "mimetype": "text/x-python",
   "name": "python",
   "nbconvert_exporter": "python",
   "pygments_lexer": "ipython3",
   "version": "3.7.1"
  }
 },
 "nbformat": 4,
 "nbformat_minor": 2
}
