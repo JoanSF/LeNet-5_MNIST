{
 "cells": [
  {
   "cell_type": "code",
   "execution_count": 1,
   "metadata": {},
   "outputs": [
    {
     "name": "stderr",
     "output_type": "stream",
     "text": [
      "Using TensorFlow backend.\n"
     ]
    }
   ],
   "source": [
    "import pandas as pd\n",
    "import seaborn as sns\n",
    "import matplotlib.pyplot as plt\n",
    "import numpy as np\n",
    "from keras.models import Sequential\n",
    "from keras.layers import Dense, Dropout, Activation,Flatten,MaxPool2D,Conv2D\n",
    "from keras.optimizers import SGD, Adam, RMSprop\n",
    "from keras.utils import np_utils\n",
    "from keras.datasets import mnist\n",
    "from pathlib import Path\n"
   ]
  },
  {
   "cell_type": "code",
   "execution_count": 2,
   "metadata": {},
   "outputs": [],
   "source": [
    "#加载数据集\n",
    "(train_x,train_y),(test_x,test_y)=mnist.load_data()"
   ]
  },
  {
   "cell_type": "code",
   "execution_count": 3,
   "metadata": {},
   "outputs": [
    {
     "name": "stdout",
     "output_type": "stream",
     "text": [
      "train_x.shape:(60000, 28, 28, 1)\n",
      "train_y.shape:(60000, 10)\n",
      "test_x.shape:(10000, 28, 28, 1)\n",
      "test_y.shape:(10000, 10)\n"
     ]
    }
   ],
   "source": [
    "#reshape 数据集来符合网络输入\n",
    "train_x=np.reshape(train_x,(-1,28,28,1))\n",
    "print(\"train_x.shape:{}\".format(train_x.shape))\n",
    "train_y=np_utils.to_categorical(train_y,10)\n",
    "print(\"train_y.shape:{}\".format(train_y.shape))\n",
    "\n",
    "test_x=np.reshape(test_x,(-1,28,28,1))\n",
    "print(\"test_x.shape:{}\".format(test_x.shape))\n",
    "test_y=np_utils.to_categorical(test_y,10)\n",
    "print(\"test_y.shape:{}\".format(test_y.shape))"
   ]
  },
  {
   "cell_type": "code",
   "execution_count": 4,
   "metadata": {},
   "outputs": [
    {
     "name": "stdout",
     "output_type": "stream",
     "text": [
      "WARNING:tensorflow:From C:\\ProgramData\\Anaconda3\\lib\\site-packages\\tensorflow\\python\\framework\\op_def_library.py:263: colocate_with (from tensorflow.python.framework.ops) is deprecated and will be removed in a future version.\n",
      "Instructions for updating:\n",
      "Colocations handled automatically by placer.\n",
      "WARNING:tensorflow:From C:\\ProgramData\\Anaconda3\\lib\\site-packages\\keras\\backend\\tensorflow_backend.py:3445: calling dropout (from tensorflow.python.ops.nn_ops) with keep_prob is deprecated and will be removed in a future version.\n",
      "Instructions for updating:\n",
      "Please use `rate` instead of `keep_prob`. Rate should be set to `rate = 1 - keep_prob`.\n"
     ]
    }
   ],
   "source": [
    "#构建模型\n",
    "model = Sequential()\n",
    "# 1、卷积层\n",
    "model.add(Conv2D(filters = 32, kernel_size = (3,3), padding='same', activation ='relu', input_shape = (28,28,1)))\n",
    "# 2、卷积层\n",
    "model.add(Conv2D(filters = 32, kernel_size = (3,3), activation ='relu'))\n",
    "# 3、池化层\n",
    "model.add(MaxPool2D(pool_size=(2,2)))\n",
    "model.add(Dropout(0.25))\n",
    "# 4、卷积层\n",
    "model.add(Conv2D(filters = 64, kernel_size = (3,3), padding='same', activation ='relu'))\n",
    "# 5、卷积层\n",
    "model.add(Conv2D(filters = 64, kernel_size = (3,3), activation ='relu'))\n",
    "# 6、池化层\n",
    "model.add(MaxPool2D(pool_size=(2,2)))\n",
    "model.add(Dropout(0.25))\n",
    "#展平，为全连接做准备\n",
    "model.add(Flatten())\n",
    "# 7、全连接层\n",
    "model.add(Dense(256, activation = \"relu\"))\n",
    "model.add(Dropout(0.5))\n",
    "# 8、全连接层添加输出10个节点表示10个分类，用softmax来激活分类\n",
    "model.add(Dense(10, activation = \"softmax\"))"
   ]
  },
  {
   "cell_type": "code",
   "execution_count": 5,
   "metadata": {},
   "outputs": [
    {
     "name": "stdout",
     "output_type": "stream",
     "text": [
      "_________________________________________________________________\n",
      "Layer (type)                 Output Shape              Param #   \n",
      "=================================================================\n",
      "conv2d_1 (Conv2D)            (None, 28, 28, 32)        320       \n",
      "_________________________________________________________________\n",
      "conv2d_2 (Conv2D)            (None, 26, 26, 32)        9248      \n",
      "_________________________________________________________________\n",
      "max_pooling2d_1 (MaxPooling2 (None, 13, 13, 32)        0         \n",
      "_________________________________________________________________\n",
      "dropout_1 (Dropout)          (None, 13, 13, 32)        0         \n",
      "_________________________________________________________________\n",
      "conv2d_3 (Conv2D)            (None, 13, 13, 64)        18496     \n",
      "_________________________________________________________________\n",
      "conv2d_4 (Conv2D)            (None, 11, 11, 64)        36928     \n",
      "_________________________________________________________________\n",
      "max_pooling2d_2 (MaxPooling2 (None, 5, 5, 64)          0         \n",
      "_________________________________________________________________\n",
      "dropout_2 (Dropout)          (None, 5, 5, 64)          0         \n",
      "_________________________________________________________________\n",
      "flatten_1 (Flatten)          (None, 1600)              0         \n",
      "_________________________________________________________________\n",
      "dense_1 (Dense)              (None, 256)               409856    \n",
      "_________________________________________________________________\n",
      "dropout_3 (Dropout)          (None, 256)               0         \n",
      "_________________________________________________________________\n",
      "dense_2 (Dense)              (None, 10)                2570      \n",
      "=================================================================\n",
      "Total params: 477,418\n",
      "Trainable params: 477,418\n",
      "Non-trainable params: 0\n",
      "_________________________________________________________________\n"
     ]
    }
   ],
   "source": [
    "#RMSprop是Geoff Hinton提出的一种自适应学习率方法，RMSprop仅仅是计算对应的平均值，因此可缓解Adagrad算法学习率下降较快的问题\n",
    "optimizer = RMSprop(lr=0.001, rho=0.9, epsilon=1e-08, decay=0.0)\n",
    "# 编译 使用多类的对数损失categorical_crossentropy\n",
    "model.compile(loss='categorical_crossentropy',\n",
    "              optimizer=optimizer,\n",
    "              metrics=['accuracy'])\n",
    "# 输出模型结构\n",
    "model.summary()"
   ]
  },
  {
   "cell_type": "code",
   "execution_count": 6,
   "metadata": {},
   "outputs": [
    {
     "name": "stdout",
     "output_type": "stream",
     "text": [
      "========开始训练============\n",
      "WARNING:tensorflow:From C:\\ProgramData\\Anaconda3\\lib\\site-packages\\tensorflow\\python\\ops\\math_ops.py:3066: to_int32 (from tensorflow.python.ops.math_ops) is deprecated and will be removed in a future version.\n",
      "Instructions for updating:\n",
      "Use tf.cast instead.\n",
      "Train on 60000 samples, validate on 10000 samples\n",
      "Epoch 1/10\n",
      "60000/60000 [==============================] - 194s 3ms/step - loss: 1.8679 - acc: 0.8293 - val_loss: 0.0710 - val_acc: 0.9794\n",
      "Epoch 2/10\n",
      "60000/60000 [==============================] - 195s 3ms/step - loss: 0.1086 - acc: 0.9699 - val_loss: 0.0859 - val_acc: 0.9787\n",
      "Epoch 3/10\n",
      "60000/60000 [==============================] - 192s 3ms/step - loss: 0.0898 - acc: 0.9759 - val_loss: 0.0483 - val_acc: 0.9870\n",
      "Epoch 4/10\n",
      "60000/60000 [==============================] - 193s 3ms/step - loss: 0.0835 - acc: 0.9776 - val_loss: 0.0416 - val_acc: 0.9875\n",
      "Epoch 5/10\n",
      "60000/60000 [==============================] - 193s 3ms/step - loss: 0.0857 - acc: 0.9774 - val_loss: 0.0495 - val_acc: 0.9858\n",
      "Epoch 6/10\n",
      "60000/60000 [==============================] - 198s 3ms/step - loss: 0.0823 - acc: 0.9785 - val_loss: 0.0648 - val_acc: 0.9864\n",
      "Epoch 7/10\n",
      "60000/60000 [==============================] - 197s 3ms/step - loss: 0.0880 - acc: 0.9783 - val_loss: 0.0399 - val_acc: 0.9885\n",
      "Epoch 8/10\n",
      "60000/60000 [==============================] - 194s 3ms/step - loss: 0.0929 - acc: 0.9773 - val_loss: 0.0405 - val_acc: 0.9887\n",
      "Epoch 9/10\n",
      "60000/60000 [==============================] - 192s 3ms/step - loss: 0.0920 - acc: 0.9772 - val_loss: 0.1233 - val_acc: 0.9752\n",
      "Epoch 10/10\n",
      "60000/60000 [==============================] - 196s 3ms/step - loss: 0.1032 - acc: 0.9753 - val_loss: 0.0596 - val_acc: 0.9839\n",
      "========训练结束============\n"
     ]
    }
   ],
   "source": [
    "print(\"========开始训练============\")\n",
    "#训练\n",
    "# verbose: 0, 1 或 2。日志显示模式。 0 = 安静模式, 1 = 进度条, 2 = 每轮一行。\n",
    "history = model.fit(train_x,train_y,\n",
    "           batch_size=64,\n",
    "           epochs=10,\n",
    "           verbose=1,\n",
    "           validation_data=(test_x,test_y))\n",
    "print(\"========训练结束============\")"
   ]
  },
  {
   "cell_type": "code",
   "execution_count": 7,
   "metadata": {
    "scrolled": true
   },
   "outputs": [
    {
     "name": "stdout",
     "output_type": "stream",
     "text": [
      "10000/10000 [==============================] - 10s 1ms/step\n",
      "Test loss: 0.05960639448354705\n",
      "Test accuracy: 0.9839\n",
      "60000/60000 [==============================] - 61s 1ms/step\n",
      "Train loss: 0.057602681390150366\n",
      "Train accuracy: 0.9848666666666667\n"
     ]
    }
   ],
   "source": [
    "# verbose: 0 或 1。日志显示模式。 0 = 安静模式，1 = 进度条\n",
    "score = model.evaluate(test_x, test_y, verbose=1)\n",
    "print('Test loss:', score[0])\n",
    "print('Test accuracy:', score[1])\n",
    "score = model.evaluate(train_x, train_y, verbose=1)\n",
    "print('Train loss:', score[0])\n",
    "print('Train accuracy:', score[1])"
   ]
  },
  {
   "cell_type": "code",
   "execution_count": 8,
   "metadata": {},
   "outputs": [
    {
     "data": {
      "image/png": "[encoded data removed]",
      "text/plain": [
       "<Figure size 432x288 with 2 Axes>"
      ]
     },
     "metadata": {
      "needs_background": "light"
     },
     "output_type": "display_data"
    }
   ],
   "source": [
    "# 显示损失 准确率\n",
    "fig, ax = plt.subplots(2,1)\n",
    "ax[0].plot(history.history['loss'], color='b', label=\"Training loss\")\n",
    "ax[0].plot(history.history['val_loss'], color='r', label=\"validation loss\",axes =ax[0])\n",
    "ax[0].legend(loc='best', shadow=True)\n",
    "ax[1].plot(history.history['acc'], color='b', label=\"Training accuracy\")\n",
    "ax[1].plot(history.history['val_acc'], color='r',label=\"Validation accuracy\")\n",
    "ax[1].legend(loc='best', shadow=True)\n",
    "plt.show()"
   ]
  },
  {
   "cell_type": "code",
   "execution_count": 9,
   "metadata": {},
   "outputs": [],
   "source": [
    "# 保存CNN网络结构\n",
    "model_structure = model.to_json()\n",
    "f = Path(\"model_save/model_structure_10epochs.json\")\n",
    "f.write_text(model_structure)\n",
    "\n",
    "# 保存训练好的权重参数\n",
    "model.save_weights(\"model_save/model_weights_10epochs.h5\")"
   ]
  }
 ],
 "metadata": {
  "kernelspec": {
   "display_name": "Python 3",
   "language": "python",
   "name": "python3"
  },
  "language_info": {
   "codemirror_mode": {
    "name": "ipython",
    "version": 3
   },
   "file_extension": ".py",
   "mimetype": "text/x-python",
   "name": "python",
   "nbconvert_exporter": "python",
   "pygments_lexer": "ipython3",
   "version": "3.7.1"
  }
 },
 "nbformat": 4,
 "nbformat_minor": 2
}
