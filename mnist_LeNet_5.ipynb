{
 "cells": [
  {
   "cell_type": "code",
   "execution_count": 1,
   "metadata": {},
   "outputs": [
    {
     "name": "stderr",
     "output_type": "stream",
     "text": [
      "Using TensorFlow backend.\n"
     ]
    }
   ],
   "source": [
    "import pandas as pd\n",
    "import seaborn as sns\n",
    "import matplotlib.pyplot as plt\n",
    "import numpy as np\n",
    "from keras.models import Sequential\n",
    "from keras.layers import Dense, Dropout, Activation,Flatten,MaxPool2D,Conv2D\n",
    "from keras.optimizers import SGD, Adam, RMSprop\n",
    "from keras.utils import np_utils\n",
    "from keras.datasets import mnist\n",
    "from pathlib import Path\n"
   ]
  },
  {
   "cell_type": "code",
   "execution_count": 2,
   "metadata": {},
   "outputs": [
    {
     "name": "stdout",
     "output_type": "stream",
     "text": [
      "train_x.shape:(60000, 28, 28, 1)\n",
      "train_y.shape:(60000, 10)\n",
      "test_x.shape:(10000, 28, 28, 1)\n",
      "test_y.shape:(10000, 10)\n"
     ]
    }
   ],
   "source": [
    "#加载数据集\n",
    "(train_x,train_y),(test_x,test_y)=mnist.load_data()\n",
    "\n",
    "train_x=np.reshape(train_x,(-1,28,28,1))\n",
    "print(\"train_x.shape:{}\".format(train_x.shape))\n",
    "train_y=np_utils.to_categorical(train_y,10)\n",
    "print(\"train_y.shape:{}\".format(train_y.shape))\n",
    "\n",
    "test_x=np.reshape(test_x,(-1,28,28,1))\n",
    "print(\"test_x.shape:{}\".format(test_x.shape))\n",
    "test_y=np_utils.to_categorical(test_y,10)\n",
    "print(\"test_y.shape:{}\".format(test_y.shape))"
   ]
  },
  {
   "cell_type": "code",
   "execution_count": 3,
   "metadata": {},
   "outputs": [
    {
     "name": "stdout",
     "output_type": "stream",
     "text": [
      "WARNING:tensorflow:From C:\\ProgramData\\Anaconda3\\lib\\site-packages\\tensorflow\\python\\framework\\op_def_library.py:263: colocate_with (from tensorflow.python.framework.ops) is deprecated and will be removed in a future version.\n",
      "Instructions for updating:\n",
      "Colocations handled automatically by placer.\n"
     ]
    }
   ],
   "source": [
    "#构建模型 LeNet-5\n",
    "model = Sequential()\n",
    "# 6个5*5卷积核，步长为1\n",
    "model.add(Conv2D(filters = 6, kernel_size = (5,5), padding='valid', strides=(1, 1), activation ='relu', input_shape = (28,28,1)))\n",
    "model.add(MaxPool2D(pool_size=(2,2)))\n",
    "model.add(Conv2D(filters = 16, kernel_size = (5,5), padding='valid', strides=(1, 1), activation ='relu'))\n",
    "model.add(MaxPool2D(pool_size=(2,2)))\n",
    "#压扁平，为全连接做准备\n",
    "model.add(Flatten())\n",
    "#全连接，指定relu为激活函数\n",
    "model.add(Dense(120, activation = \"relu\"))\n",
    "#全连接，指定relu为激活函数\n",
    "model.add(Dense(84, activation = \"relu\"))\n",
    "#添加输出10个节点表示10个分类，用softmax来激活分类\n",
    "model.add(Dense(10, activation = \"softmax\"))"
   ]
  },
  {
   "cell_type": "code",
   "execution_count": 4,
   "metadata": {},
   "outputs": [
    {
     "name": "stdout",
     "output_type": "stream",
     "text": [
      "_________________________________________________________________\n",
      "Layer (type)                 Output Shape              Param #   \n",
      "=================================================================\n",
      "conv2d_1 (Conv2D)            (None, 24, 24, 6)         156       \n",
      "_________________________________________________________________\n",
      "max_pooling2d_1 (MaxPooling2 (None, 12, 12, 6)         0         \n",
      "_________________________________________________________________\n",
      "conv2d_2 (Conv2D)            (None, 8, 8, 16)          2416      \n",
      "_________________________________________________________________\n",
      "max_pooling2d_2 (MaxPooling2 (None, 4, 4, 16)          0         \n",
      "_________________________________________________________________\n",
      "flatten_1 (Flatten)          (None, 256)               0         \n",
      "_________________________________________________________________\n",
      "dense_1 (Dense)              (None, 120)               30840     \n",
      "_________________________________________________________________\n",
      "dense_2 (Dense)              (None, 84)                10164     \n",
      "_________________________________________________________________\n",
      "dense_3 (Dense)              (None, 10)                850       \n",
      "=================================================================\n",
      "Total params: 44,426\n",
      "Trainable params: 44,426\n",
      "Non-trainable params: 0\n",
      "_________________________________________________________________\n"
     ]
    }
   ],
   "source": [
    "#RMSprop是Geoff Hinton提出的一种自适应学习率方法，RMSprop仅仅是计算对应的平均值，因此可缓解Adagrad算法学习率下降较快的问题\n",
    "optimizer = RMSprop(lr=0.001, rho=0.9, epsilon=1e-08, decay=0.0)\n",
    "# 编译 使用多类的对数损失categorical_crossentropy\n",
    "model.compile(loss='categorical_crossentropy',\n",
    "              optimizer=optimizer,\n",
    "              metrics=['accuracy'])\n",
    "# 输出模型结构\n",
    "model.summary()"
   ]
  },
  {
   "cell_type": "code",
   "execution_count": 5,
   "metadata": {},
   "outputs": [
    {
     "name": "stdout",
     "output_type": "stream",
     "text": [
      "========开始训练============\n",
      "WARNING:tensorflow:From C:\\ProgramData\\Anaconda3\\lib\\site-packages\\tensorflow\\python\\ops\\math_ops.py:3066: to_int32 (from tensorflow.python.ops.math_ops) is deprecated and will be removed in a future version.\n",
      "Instructions for updating:\n",
      "Use tf.cast instead.\n",
      "Train on 60000 samples, validate on 10000 samples\n",
      "Epoch 1/3\n",
      "60000/60000 [==============================] - 22s 371us/step - loss: 0.8839 - acc: 0.8955 - val_loss: 0.1108 - val_acc: 0.9687\n",
      "Epoch 2/3\n",
      "60000/60000 [==============================] - 24s 398us/step - loss: 0.0907 - acc: 0.9751 - val_loss: 0.0951 - val_acc: 0.9741\n",
      "Epoch 3/3\n",
      "60000/60000 [==============================] - 26s 428us/step - loss: 0.0682 - acc: 0.9813 - val_loss: 0.0760 - val_acc: 0.9797\n",
      "========训练结束============\n"
     ]
    }
   ],
   "source": [
    "print(\"========开始训练============\")\n",
    "#训练\n",
    "# verbose: 0, 1 或 2。日志显示模式。 0 = 安静模式, 1 = 进度条, 2 = 每轮一行。\n",
    "history = model.fit(train_x,train_y,\n",
    "           batch_size=64,\n",
    "           epochs=3,\n",
    "           verbose=1,\n",
    "           validation_data=(test_x,test_y))\n",
    "print(\"========训练结束============\")"
   ]
  },
  {
   "cell_type": "code",
   "execution_count": 6,
   "metadata": {},
   "outputs": [
    {
     "name": "stdout",
     "output_type": "stream",
     "text": [
      "10000/10000 [==============================] - 3s 253us/step\n",
      "Val loss: 0.07604167968099136\n",
      "Val accuracy: 0.9797\n"
     ]
    }
   ],
   "source": [
    "# verbose: 0 或 1。日志显示模式。 0 = 安静模式，1 = 进度条\n",
    "score = model.evaluate(test_x, test_y, verbose=1)\n",
    "print('Val loss:', score[0])\n",
    "print('Val accuracy:', score[1])"
   ]
  },
  {
   "cell_type": "code",
   "execution_count": 7,
   "metadata": {},
   "outputs": [
    {
     "data": {
      "image/png": "[encoded data removed]",
      "text/plain": [
       "<Figure size 432x288 with 2 Axes>"
      ]
     },
     "metadata": {
      "needs_background": "light"
     },
     "output_type": "display_data"
    }
   ],
   "source": [
    "# 显示损失 准确率\n",
    "fig, ax = plt.subplots(2,1)\n",
    "ax[0].plot(history.history['loss'], color='b', label=\"Training loss\")\n",
    "ax[0].plot(history.history['val_loss'], color='r', label=\"validation loss\",axes =ax[0])\n",
    "ax[0].legend(loc='best', shadow=True)\n",
    "ax[1].plot(history.history['acc'], color='b', label=\"Training accuracy\")\n",
    "ax[1].plot(history.history['val_acc'], color='r',label=\"Validation accuracy\")\n",
    "ax[1].legend(loc='best', shadow=True)\n",
    "plt.show()"
   ]
  },
  {
   "cell_type": "code",
   "execution_count": 8,
   "metadata": {},
   "outputs": [],
   "source": [
    "# 保存CNN网络结构\n",
    "model_structure = model.to_json()\n",
    "f = Path(\"model_save/LeNet_5model_structure_3epochs.json\")\n",
    "f.write_text(model_structure)\n",
    "\n",
    "# 保存训练好的权重参数\n",
    "model.save_weights(\"model_save/LeNet_5model_weights_3epochs.h5\")"
   ]
  },
  {
   "cell_type": "code",
   "execution_count": null,
   "metadata": {},
   "outputs": [],
   "source": []
  }
 ],
 "metadata": {
  "kernelspec": {
   "display_name": "Python 3",
   "language": "python",
   "name": "python3"
  },
  "language_info": {
   "codemirror_mode": {
    "name": "ipython",
    "version": 3
   },
   "file_extension": ".py",
   "mimetype": "text/x-python",
   "name": "python",
   "nbconvert_exporter": "python",
   "pygments_lexer": "ipython3",
   "version": "3.7.1"
  }
 },
 "nbformat": 4,
 "nbformat_minor": 2
}
